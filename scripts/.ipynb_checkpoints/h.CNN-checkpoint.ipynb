{
 "cells": [
  {
   "cell_type": "code",
   "execution_count": 16,
   "id": "713e6ee3-b645-4476-b889-a68713d68fc8",
   "metadata": {},
   "outputs": [],
   "source": [
    "import torch\n",
    "from torch.utils.data import DataLoader\n",
    "from torch import nn\n",
    "import torch.optim as optim\n",
    "import numpy as np\n",
    "from sklearn.metrics import roc_auc_score, accuracy_score, matthews_corrcoef, recall_score, precision_score\n",
    "from sklearn.metrics import confusion_matrix, f1_score, classification_report\n",
    "from sklearn.metrics import roc_curve\n",
    "import torch.nn.functional as F"
   ]
  },
  {
   "cell_type": "code",
   "execution_count": 17,
   "id": "76f86110-10f6-471f-89bf-8e7706e05c96",
   "metadata": {},
   "outputs": [],
   "source": [
    "loaded_datasets_info = torch.load('/root/autodl-tmp/data/saved_datasets.pth', weights_only=False)\n",
    "train_dataset = loaded_datasets_info['train_dataset']\n",
    "val_dataset = loaded_datasets_info['val_dataset']"
   ]
  },
  {
   "cell_type": "code",
   "execution_count": 18,
   "id": "69b14a4f-b3d7-4cb0-a4ee-9c020cda8258",
   "metadata": {},
   "outputs": [],
   "source": [
    "batch_size = 10\n",
    "loaded_train_dataset = DataLoader(train_dataset, batch_size = batch_size, shuffle = False)\n",
    "loaded_val_dataset = DataLoader(val_dataset, batch_size = batch_size, shuffle = False)"
   ]
  },
  {
   "cell_type": "code",
   "execution_count": 19,
   "id": "9da8af3e-76cd-4a52-a09f-5dee1368fca6",
   "metadata": {},
   "outputs": [],
   "source": [
    "size = 8\n",
    "class Net_conv(torch.nn.Module):\n",
    "    def __init__(self, input_length):\n",
    "        super(Net_conv, self).__init__()\n",
    "        self.block_1 = torch.nn.Sequential(\n",
    "            torch.nn.Conv1d(in_channels=1,\n",
    "                            out_channels=size,\n",
    "                            kernel_size=1,\n",
    "                            stride=1,\n",
    "                            padding=0),\n",
    "            torch.nn.BatchNorm1d(size),\n",
    "            torch.nn.ReLU(inplace=True),\n",
    "            torch.nn.Conv1d(in_channels=size,\n",
    "                                out_channels=2*size,\n",
    "                                kernel_size=3,\n",
    "                                stride=1,\n",
    "                                padding=1),\n",
    "            torch.nn.BatchNorm1d(2*size)\n",
    "        )\n",
    "        self.block_2 = torch.nn.Sequential(\n",
    "            torch.nn.Conv1d(in_channels=2*size,\n",
    "                            out_channels=4*size,\n",
    "                            kernel_size=1,\n",
    "                            stride=1,\n",
    "                            padding=0),\n",
    "            torch.nn.BatchNorm1d(4*size),\n",
    "            torch.nn.ReLU(inplace=True),\n",
    "            torch.nn.Conv1d(in_channels=4*size,\n",
    "                                out_channels=2*size,\n",
    "                                kernel_size=3, \n",
    "                                stride=1,\n",
    "                                padding=1),\n",
    "            torch.nn.BatchNorm1d(2*size)\n",
    "        )\n",
    "        iutput_size_block_1 = (input_length - 1 + 2 * 0) // 1 + 1  \n",
    "        output_size_block_2 = (iutput_size_block_1 - 1 + 2 * 0) // 1 + 1  \n",
    "        num_channels_last_layer = 2*size \n",
    "        linear_input_size = num_channels_last_layer * output_size_block_2    \n",
    "        self.linear_1 = torch.nn.Linear(linear_input_size, 3)\n",
    "    \n",
    "    def forward(self, x):\n",
    "        shortcut = x.float()\n",
    "        x = self.block_1(x)\n",
    "        x = torch.nn.functional.relu(x + shortcut)    \n",
    "        shortcut = x\n",
    "        x = self.block_2(x)\n",
    "        x = torch.nn.functional.relu(x + shortcut)     \n",
    "        x = x.view(x.size(0), -1)\n",
    "        x =  self.linear_1(x)\n",
    "        return x"
   ]
  },
  {
   "cell_type": "code",
   "execution_count": 20,
   "id": "92d28946-797f-425c-b327-292a686e7dae",
   "metadata": {},
   "outputs": [],
   "source": [
    "device = \"cuda\"\n",
    "model = Net_conv(input_length = 31).to(device)\n",
    "optimizer = torch.optim.Adam(model.parameters(), lr=0.001)  \n",
    "criterion = nn.CrossEntropyLoss().to(device)\n",
    "num_epochs = 100"
   ]
  },
  {
   "cell_type": "code",
   "execution_count": 21,
   "id": "38520170-921b-4939-b2e9-27ab0f26ce3b",
   "metadata": {},
   "outputs": [
    {
     "name": "stdout",
     "output_type": "stream",
     "text": [
      "Epoch 1/100, Loss: 7.262320561068398\n",
      "Epoch 2/100, Loss: 6.348324578595664\n",
      "Epoch 3/100, Loss: 6.092498226034557\n",
      "Epoch 4/100, Loss: 5.931672294050524\n",
      "Epoch 5/100, Loss: 5.798990904796319\n",
      "Epoch 6/100, Loss: 5.688674512037907\n",
      "Epoch 7/100, Loss: 5.592864861742394\n",
      "Epoch 8/100, Loss: 5.499817245319241\n",
      "Epoch 9/100, Loss: 5.41074409906423\n",
      "Epoch 10/100, Loss: 5.3267712142554045\n",
      "Epoch 11/100, Loss: 5.249500964752963\n",
      "Epoch 12/100, Loss: 5.178093529138408\n",
      "Epoch 13/100, Loss: 5.104453848277936\n",
      "Epoch 14/100, Loss: 5.035862790582051\n",
      "Epoch 15/100, Loss: 4.968313903349345\n",
      "Epoch 16/100, Loss: 4.895056554528533\n",
      "Epoch 17/100, Loss: 4.845701225224088\n",
      "Epoch 18/100, Loss: 4.78093576672066\n",
      "Epoch 19/100, Loss: 4.727935047178971\n",
      "Epoch 20/100, Loss: 4.665483563998823\n",
      "Epoch 21/100, Loss: 4.613726063690364\n",
      "Epoch 22/100, Loss: 4.551264824786286\n",
      "Epoch 23/100, Loss: 4.497966690630209\n",
      "Epoch 24/100, Loss: 4.441287160373403\n",
      "Epoch 25/100, Loss: 4.377405729310573\n",
      "Epoch 26/100, Loss: 4.332424064954215\n",
      "Epoch 27/100, Loss: 4.28166073923647\n",
      "Epoch 28/100, Loss: 4.221967237475884\n",
      "Epoch 29/100, Loss: 4.185139751999663\n",
      "Epoch 30/100, Loss: 4.134159840346778\n",
      "Epoch 31/100, Loss: 4.0983090790499\n",
      "Epoch 32/100, Loss: 4.063200816791286\n",
      "Epoch 33/100, Loss: 4.015977557321063\n",
      "Epoch 34/100, Loss: 3.9745059677462944\n",
      "Epoch 35/100, Loss: 3.936003427821663\n",
      "Epoch 36/100, Loss: 3.899553291569409\n",
      "Epoch 37/100, Loss: 3.858789470770878\n",
      "Epoch 38/100, Loss: 3.8284268829561507\n",
      "Epoch 39/100, Loss: 3.794417727119191\n",
      "Epoch 40/100, Loss: 3.7564590163267186\n",
      "Epoch 41/100, Loss: 3.707101418172168\n",
      "Epoch 42/100, Loss: 3.6700398938193812\n",
      "Epoch 43/100, Loss: 3.6398166400626892\n",
      "Epoch 44/100, Loss: 3.5961293542552606\n",
      "Epoch 45/100, Loss: 3.5688617919730916\n",
      "Epoch 46/100, Loss: 3.5403244065631188\n",
      "Epoch 47/100, Loss: 3.503496367615196\n",
      "Epoch 48/100, Loss: 3.4739830651139485\n",
      "Epoch 49/100, Loss: 3.435673093732961\n",
      "Epoch 50/100, Loss: 3.406692878790287\n",
      "Epoch 51/100, Loss: 3.3783944216349644\n",
      "Epoch 52/100, Loss: 3.350317442671895\n",
      "Epoch 53/100, Loss: 3.3203945987676846\n",
      "Epoch 54/100, Loss: 3.3048848039197973\n",
      "Epoch 55/100, Loss: 3.2633981809229424\n",
      "Epoch 56/100, Loss: 3.2474967937227293\n",
      "Epoch 57/100, Loss: 3.2285720078531974\n",
      "Epoch 58/100, Loss: 3.2011538224874947\n",
      "Epoch 59/100, Loss: 3.1501045045759133\n",
      "Epoch 60/100, Loss: 3.1196322478790193\n",
      "Epoch 61/100, Loss: 3.086657082003299\n",
      "Epoch 62/100, Loss: 3.052815219226012\n",
      "Epoch 63/100, Loss: 3.028757482487926\n",
      "Epoch 64/100, Loss: 2.999820867051704\n",
      "Epoch 65/100, Loss: 2.9712006595395763\n",
      "Epoch 66/100, Loss: 2.9590193202295962\n",
      "Epoch 67/100, Loss: 2.9394120452554775\n",
      "Epoch 68/100, Loss: 2.8985823355876867\n",
      "Epoch 69/100, Loss: 2.8619978393687573\n",
      "Epoch 70/100, Loss: 2.8620313357483305\n",
      "Epoch 71/100, Loss: 2.8197562781792893\n",
      "Epoch 72/100, Loss: 2.7832679761970627\n",
      "Epoch 73/100, Loss: 2.739150998088808\n",
      "Epoch 74/100, Loss: 2.730634505413385\n",
      "Epoch 75/100, Loss: 2.6970684161492615\n",
      "Epoch 76/100, Loss: 2.6884345974188637\n",
      "Epoch 77/100, Loss: 2.673143866391246\n",
      "Epoch 78/100, Loss: 2.6440071757333197\n",
      "Epoch 79/100, Loss: 2.6220211098777604\n",
      "Epoch 80/100, Loss: 2.5915243192652206\n",
      "Epoch 81/100, Loss: 2.5729175100421458\n",
      "Epoch 82/100, Loss: 2.564948967132342\n",
      "Epoch 83/100, Loss: 2.529392122864653\n",
      "Epoch 84/100, Loss: 2.5143741739071923\n",
      "Epoch 85/100, Loss: 2.4668310649815153\n",
      "Epoch 86/100, Loss: 2.431454006495255\n",
      "Epoch 87/100, Loss: 2.4101675418478195\n",
      "Epoch 88/100, Loss: 2.3925888968470224\n",
      "Epoch 89/100, Loss: 2.379038044375823\n",
      "Epoch 90/100, Loss: 2.3489165125061393\n",
      "Epoch 91/100, Loss: 2.3210254698049546\n",
      "Epoch 92/100, Loss: 2.2990430889987064\n",
      "Epoch 93/100, Loss: 2.2983213740486033\n",
      "Epoch 94/100, Loss: 2.2850371158269582\n",
      "Epoch 95/100, Loss: 2.285084505161964\n",
      "Epoch 96/100, Loss: 2.2966469340549835\n",
      "Epoch 97/100, Loss: 2.2284614895219614\n",
      "Epoch 98/100, Loss: 2.2244236044219283\n",
      "Epoch 99/100, Loss: 2.2041575652514465\n",
      "Epoch 100/100, Loss: 2.189948333719575\n"
     ]
    }
   ],
   "source": [
    "for epoch in range(num_epochs):\n",
    "    model.train()\n",
    "    running_loss = 0.0\n",
    "    for batch_indx, (inputs, labels) in enumerate(loaded_train_dataset):\n",
    "        inputs = inputs.to(device)\n",
    "        labels = labels.to(device)\n",
    "        \n",
    "        optimizer.zero_grad()\n",
    "        outputs = model(inputs)\n",
    "        loss = criterion(outputs, labels)\n",
    "        loss.backward()\n",
    "        optimizer.step()\n",
    "        \n",
    "        running_loss += loss.item()\n",
    "        \n",
    "    # Print average loss for the epoch\n",
    "    print(f\"Epoch {epoch+1}/{num_epochs}, Loss: {running_loss / (len(loaded_train_dataset) / batch_size)}\")"
   ]
  },
  {
   "cell_type": "code",
   "execution_count": 22,
   "id": "b28ddac4-3e10-4d15-8674-44b93bef0047",
   "metadata": {},
   "outputs": [],
   "source": [
    "torch.save(model.state_dict(), '/root/autodl-tmp/model_params/CNN.pth')"
   ]
  },
  {
   "cell_type": "code",
   "execution_count": 23,
   "id": "7cd86c85-7aee-4a0c-81ce-a2270bf537d6",
   "metadata": {},
   "outputs": [
    {
     "data": {
      "text/plain": [
       "<All keys matched successfully>"
      ]
     },
     "execution_count": 23,
     "metadata": {},
     "output_type": "execute_result"
    }
   ],
   "source": [
    "model.load_state_dict(torch.load('/root/autodl-tmp/model_params/CNN.pth', weights_only=False))"
   ]
  },
  {
   "cell_type": "markdown",
   "id": "1b6bc800-e4fb-426b-b73d-d17f922c2968",
   "metadata": {
    "tags": []
   },
   "source": [
    "### Metrics function definition"
   ]
  },
  {
   "cell_type": "code",
   "execution_count": 24,
   "id": "393bebac-2b67-4e62-ae91-a66e60c5350f",
   "metadata": {},
   "outputs": [],
   "source": [
    "# get roc_auc, metrics_sn, metrics_sp, metrics_ACC, metrics_F1, metrics_MCC\n",
    "def calculate_multiclass_metrics(true_labels, predicted_labels, predicted_probabilities, num_classes):\n",
    "    accuracy = accuracy_score(true_labels, predicted_labels)\n",
    "    mcc = matthews_corrcoef(true_labels, predicted_labels)\n",
    "    \n",
    "    sensitivity_per_class = []\n",
    "    specificity_per_class = []\n",
    "    auc_per_class = []\n",
    "    f1_per_class = []\n",
    "\n",
    "    for i in range(num_classes):\n",
    "        true_binary = (np.array(true_labels) == i).astype(int)\n",
    "        pred_binary = (np.array(predicted_labels) == i).astype(int)\n",
    "\n",
    "        cm = confusion_matrix(true_binary, pred_binary, labels=[0, 1])\n",
    "        tn, fp, fn, tp = cm.ravel()\n",
    "\n",
    "        sensitivity = tp / (tp + fn) if (tp + fn) > 0 else 0\n",
    "        specificity = tn / (tn + fp) if (tn + fp) > 0 else 0\n",
    "        sensitivity_per_class.append(sensitivity)\n",
    "        specificity_per_class.append(specificity)\n",
    "\n",
    "        \n",
    "        auc = roc_auc_score(true_binary, predicted_probabilities[:, i]) if len(np.unique(true_binary)) > 1 else 0\n",
    "        auc_per_class.append(auc)\n",
    "\n",
    "        f1 = f1_score(true_binary, pred_binary) if len(np.unique(true_binary)) > 1 else 0\n",
    "        f1_per_class.append(f1)\n",
    "\n",
    "    avg_sensitivity = np.mean(sensitivity_per_class)\n",
    "    avg_specificity = np.mean(specificity_per_class)\n",
    "    avg_auc = np.mean(auc_per_class) if auc_per_class else 0\n",
    "    avg_f1 = np.mean(f1_per_class)\n",
    "\n",
    "    print(f\"Average AUC: {avg_auc:.4f}\")\n",
    "    print(f\"Average Sensitivity: {avg_sensitivity:.4f}\")\n",
    "    print(f\"Average Specificity: {avg_specificity:.4f}\")\n",
    "    print(f\"Accuracy: {accuracy:.4f}\")\n",
    "    print(f\"Average F1-score: {avg_f1:.4f}\")\n",
    "    print(f\"Matthews Correlation Coefficient (MCC): {mcc:.4f}\")"
   ]
  },
  {
   "cell_type": "markdown",
   "id": "2d903046-e9ac-4f7d-b1ab-9a6cd1134775",
   "metadata": {},
   "source": [
    "### Training data metrics"
   ]
  },
  {
   "cell_type": "code",
   "execution_count": 25,
   "id": "af43577a-382a-4261-bbc9-758d716ac020",
   "metadata": {},
   "outputs": [],
   "source": [
    "predicted_probabilities = []\n",
    "true_labels = []\n",
    "with torch.set_grad_enabled(False):\n",
    "    for batch_indx, (inputs, labels) in enumerate(loaded_train_dataset):\n",
    "        inputs = inputs.to(device)\n",
    "        labels = labels.to(device)      \n",
    "        outputs = model(inputs)\n",
    "        predicted_probabilities.extend(outputs.tolist())\n",
    "        true_labels.extend(labels.tolist())"
   ]
  },
  {
   "cell_type": "code",
   "execution_count": 26,
   "id": "d634c59a-070e-4670-adef-ff81574ee427",
   "metadata": {},
   "outputs": [
    {
     "name": "stdout",
     "output_type": "stream",
     "text": [
      "Average AUC: 0.9766\n",
      "Average Sensitivity: 0.8843\n",
      "Average Specificity: 0.9420\n",
      "Accuracy: 0.8840\n",
      "Average F1-score: 0.8846\n",
      "Matthews Correlation Coefficient (MCC): 0.8278\n"
     ]
    }
   ],
   "source": [
    "true_labels_ = np.argmax(true_labels, axis=-1)\n",
    "predicted_labels = np.argmax(predicted_probabilities, axis=-1)\n",
    "preds = torch.tensor(predicted_probabilities)\n",
    "preds = F.softmax(preds, dim=-1)\n",
    "\n",
    "train_metrics = calculate_multiclass_metrics(true_labels_, predicted_labels, preds, num_classes=3)"
   ]
  },
  {
   "cell_type": "code",
   "execution_count": 27,
   "id": "3e90d282-a10c-43bf-b53e-48dcf08073b3",
   "metadata": {},
   "outputs": [],
   "source": [
    "np.save('/root/autodl-tmp/ROC/CNN/y_train_pred.npy', preds)\n",
    "np.save('/root/autodl-tmp/ROC/CNN/y_train.npy', true_labels)"
   ]
  },
  {
   "cell_type": "markdown",
   "id": "1bf505ac-2ace-48e8-b275-74cbbb100296",
   "metadata": {},
   "source": [
    "### Validation data metrics"
   ]
  },
  {
   "cell_type": "code",
   "execution_count": 28,
   "id": "aa633154-87be-4a95-9990-ed59878f005e",
   "metadata": {},
   "outputs": [],
   "source": [
    "predicted_probabilities = []  \n",
    "true_labels = []  \n",
    "with torch.set_grad_enabled(False): \n",
    "    for batch_indx, (inputs, labels) in enumerate(loaded_val_dataset):\n",
    "        inputs = inputs.to(device)\n",
    "        labels = labels.to(device)    \n",
    "        outputs = model(inputs)\n",
    "        predicted_probabilities.extend(outputs.tolist())\n",
    "        true_labels.extend(labels.tolist())"
   ]
  },
  {
   "cell_type": "code",
   "execution_count": 29,
   "id": "1bc65513-5e8b-4737-bbbf-b6c99e78ddb4",
   "metadata": {},
   "outputs": [
    {
     "name": "stdout",
     "output_type": "stream",
     "text": [
      "Average AUC: 0.8870\n",
      "Average Sensitivity: 0.7325\n",
      "Average Specificity: 0.8663\n",
      "Accuracy: 0.7329\n",
      "Average F1-score: 0.7344\n",
      "Matthews Correlation Coefficient (MCC): 0.6012\n"
     ]
    }
   ],
   "source": [
    "true_labels_ = np.argmax(true_labels, axis=-1)\n",
    "predicted_labels = np.argmax(predicted_probabilities, axis=-1)\n",
    "preds = torch.tensor(predicted_probabilities)\n",
    "preds = F.softmax(preds, dim=-1)\n",
    "\n",
    "test_metrics = calculate_multiclass_metrics(true_labels_, predicted_labels, preds, num_classes=3)"
   ]
  },
  {
   "cell_type": "code",
   "execution_count": 30,
   "id": "5a3d871f-f2b4-4f8e-9e4c-b0a87e3d879d",
   "metadata": {},
   "outputs": [],
   "source": [
    "np.save('/root/autodl-tmp/ROC/CNN/y_val_pred.npy', preds)\n",
    "np.save('/root/autodl-tmp/ROC/CNN/y_val.npy', true_labels)"
   ]
  },
  {
   "cell_type": "code",
   "execution_count": null,
   "id": "17696105-a8be-4dc0-b868-dc26aca6f68e",
   "metadata": {},
   "outputs": [],
   "source": []
  },
  {
   "cell_type": "code",
   "execution_count": null,
   "id": "b513e60c-3c9e-4048-87f3-d3af20a596cd",
   "metadata": {},
   "outputs": [],
   "source": []
  }
 ],
 "metadata": {
  "kernelspec": {
   "display_name": "SWEdiff",
   "language": "python",
   "name": "swediff"
  },
  "language_info": {
   "codemirror_mode": {
    "name": "ipython",
    "version": 3
   },
   "file_extension": ".py",
   "mimetype": "text/x-python",
   "name": "python",
   "nbconvert_exporter": "python",
   "pygments_lexer": "ipython3",
   "version": "3.9.20"
  }
 },
 "nbformat": 4,
 "nbformat_minor": 5
}
