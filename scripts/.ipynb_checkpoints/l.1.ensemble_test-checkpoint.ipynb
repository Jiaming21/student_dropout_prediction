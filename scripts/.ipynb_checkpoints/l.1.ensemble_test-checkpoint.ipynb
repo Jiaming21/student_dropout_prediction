{
 "cells": [
  {
   "cell_type": "code",
   "execution_count": 4,
   "id": "e0f35708-61ef-4db3-a044-4ebbbaa22465",
   "metadata": {},
   "outputs": [],
   "source": [
    "import torch\n",
    "import numpy as np\n",
    "import pandas as pd"
   ]
  },
  {
   "cell_type": "code",
   "execution_count": 5,
   "id": "1d2b284a-096a-4367-8b85-dfc19807aa2c",
   "metadata": {},
   "outputs": [
    {
     "name": "stderr",
     "output_type": "stream",
     "text": [
      "/tmp/ipykernel_1048/2492582296.py:1: FutureWarning: You are using `torch.load` with `weights_only=False` (the current default value), which uses the default pickle module implicitly. It is possible to construct malicious pickle data which will execute arbitrary code during unpickling (See https://github.com/pytorch/pytorch/blob/main/SECURITY.md#untrusted-models for more details). In a future release, the default value for `weights_only` will be flipped to `True`. This limits the functions that could be executed during unpickling. Arbitrary objects will no longer be allowed to be loaded via this mode unless they are explicitly allowlisted by the user via `torch.serialization.add_safe_globals`. We recommend you start setting `weights_only=True` for any use case where you don't have full control of the loaded file. Please open an issue on GitHub for any issues related to this experimental feature.\n",
      "  test_data_output_transformer = torch.load(\"/root/autodl-tmp/data/test_data_output_transformer.pt\")\n"
     ]
    }
   ],
   "source": [
    "test_data_output_transformer = torch.load(\"/root/autodl-tmp/data/test_data_output_transformer.pt\")"
   ]
  },
  {
   "cell_type": "code",
   "execution_count": 6,
   "id": "656bed62-7d4a-4789-81d2-cdfec5403591",
   "metadata": {},
   "outputs": [],
   "source": [
    "test_data_output_RF = np.load(\"/root/autodl-tmp/data/test_data_output_RF.npy\")"
   ]
  },
  {
   "cell_type": "code",
   "execution_count": 7,
   "id": "7ed92479-9798-420d-8745-391648a13de7",
   "metadata": {},
   "outputs": [
    {
     "name": "stdout",
     "output_type": "stream",
     "text": [
      "       ID    Target\n",
      "0    2050  Graduate\n",
      "1       3   Dropout\n",
      "2       4  Graduate\n",
      "3    2054  Enrolled\n",
      "4       7  Graduate\n",
      "..    ...       ...\n",
      "880  4087  Graduate\n",
      "881  2043  Graduate\n",
      "882  4093  Enrolled\n",
      "883  2046  Graduate\n",
      "884  4096  Graduate\n",
      "\n",
      "[885 rows x 2 columns]\n"
     ]
    }
   ],
   "source": [
    "test_data = pd.read_csv(\"/root/autodl-tmp/data/test.csv\")\n",
    "ids = test_data.iloc[:, 0]  # Extract the first column (ID)\n",
    "type_dict = {0: 'Graduate', 1: 'Dropout', 2: 'Enrolled'}\n",
    "test_data_output = (test_data_output_transformer + torch.tensor(test_data_output_RF)) / 2\n",
    "predicted_indices = torch.argmax(test_data_output, dim=1).numpy()  # Convert to NumPy for easy handling\n",
    "predicted_statuses = [type_dict[idx] for idx in predicted_indices]\n",
    "result_df = pd.DataFrame({\n",
    "    'ID': ids,\n",
    "    'Target': predicted_statuses\n",
    "})\n",
    "result_df.to_csv(\"/root/autodl-tmp/data/test_ensemble_preds.csv\", index=False)\n",
    "print(result_df)"
   ]
  },
  {
   "cell_type": "code",
   "execution_count": null,
   "id": "e221c724-57d2-4701-9910-b80293a361b3",
   "metadata": {},
   "outputs": [],
   "source": []
  },
  {
   "cell_type": "code",
   "execution_count": null,
   "id": "4ddc12d9-7194-4a6b-be46-d3b73c564a79",
   "metadata": {},
   "outputs": [],
   "source": []
  },
  {
   "cell_type": "code",
   "execution_count": null,
   "id": "7451b584-4ba3-47b6-8b1d-4125e2229cbd",
   "metadata": {},
   "outputs": [],
   "source": []
  },
  {
   "cell_type": "code",
   "execution_count": null,
   "id": "f5b0f124-a7a0-4ec6-95e3-d12a9b8dd64b",
   "metadata": {},
   "outputs": [],
   "source": []
  }
 ],
 "metadata": {
  "kernelspec": {
   "display_name": "SWEdiff",
   "language": "python",
   "name": "swediff"
  },
  "language_info": {
   "codemirror_mode": {
    "name": "ipython",
    "version": 3
   },
   "file_extension": ".py",
   "mimetype": "text/x-python",
   "name": "python",
   "nbconvert_exporter": "python",
   "pygments_lexer": "ipython3",
   "version": "3.9.20"
  }
 },
 "nbformat": 4,
 "nbformat_minor": 5
}
