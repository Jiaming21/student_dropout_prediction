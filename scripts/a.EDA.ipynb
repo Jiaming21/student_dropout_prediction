{
 "cells": [
  {
   "cell_type": "markdown",
   "id": "cd2d797c-0667-4311-afcc-d14a3561e6d1",
   "metadata": {},
   "source": [
    "### Import packages"
   ]
  },
  {
   "cell_type": "code",
   "execution_count": null,
   "id": "09389d81-d506-4a6b-b59a-eedb317ec6d9",
   "metadata": {},
   "outputs": [],
   "source": [
    "import pandas as pd\n",
    "import seaborn as sns\n",
    "import matplotlib.pyplot as plt\n",
    "from sklearn.preprocessing import StandardScaler\n",
    "from sklearn.preprocessing import MinMaxScaler\n",
    "from imblearn.over_sampling import SMOTE\n",
    "from sklearn.linear_model import Lasso\n",
    "import numpy as np"
   ]
  },
  {
   "cell_type": "markdown",
   "id": "816f9912-28c1-4e22-a6d6-8ada67177fcd",
   "metadata": {},
   "source": [
    "### Read the data"
   ]
  },
  {
   "cell_type": "code",
   "execution_count": null,
   "id": "f852e164-0b5d-48a7-8e53-42430f4ed73a",
   "metadata": {},
   "outputs": [],
   "source": [
    "train = pd.read_csv('/root/autodl-tmp/data/train.csv')\n",
    "train_data = train.iloc[:, :-1]\n",
    "train_label = train.iloc[:, -1]\n",
    "\n",
    "test = pd.read_csv('/root/autodl-tmp/data/test.csv')\n",
    "test_data = test.iloc[:, :-1]\n",
    "test_label = test.iloc[:, -1]"
   ]
  },
  {
   "cell_type": "markdown",
   "id": "42db3af1-be9f-4c90-9792-8c5fbdbc9460",
   "metadata": {},
   "source": [
    "### Exploratory Data Analysis\n",
    "#### 1. Explore the dataset"
   ]
  },
  {
   "cell_type": "code",
   "execution_count": null,
   "id": "fdbeb17a-5d8e-4619-a069-0a8773f4c1ad",
   "metadata": {},
   "outputs": [],
   "source": [
    "train_data.head(1)"
   ]
  },
  {
   "cell_type": "code",
   "execution_count": null,
   "id": "649be26f-8e99-4efb-8f62-681090962512",
   "metadata": {},
   "outputs": [],
   "source": [
    "train_data"
   ]
  },
  {
   "cell_type": "code",
   "execution_count": null,
   "id": "76b2aae7-3e89-4483-89f1-4382d44d66a1",
   "metadata": {},
   "outputs": [],
   "source": [
    "test_data.head(1)"
   ]
  },
  {
   "cell_type": "code",
   "execution_count": null,
   "id": "7001c133-65f9-4b32-826a-36e1e19ddcc3",
   "metadata": {},
   "outputs": [],
   "source": [
    "test_data"
   ]
  },
  {
   "cell_type": "markdown",
   "id": "15e0fca1-7c63-48ef-892d-05d7770394f8",
   "metadata": {},
   "source": [
    "#### 2. Dataset cleaning: remove the 'ID' column, which is irrelevant to our prediction"
   ]
  },
  {
   "cell_type": "code",
   "execution_count": null,
   "id": "3377b271-e5bb-4454-af6b-22206dac0a6e",
   "metadata": {},
   "outputs": [],
   "source": [
    "train_data = train_data.drop(train_data.columns[0], axis=1)\n",
    "test_data = test_data.drop(test_data.columns[0], axis=1)"
   ]
  },
  {
   "cell_type": "markdown",
   "id": "007fbb4b-323e-4fa0-9b96-986f18dbfe10",
   "metadata": {},
   "source": [
    "#### 3. Check NAs"
   ]
  },
  {
   "cell_type": "code",
   "execution_count": null,
   "id": "d3ad4388-6b63-4654-954e-bdb4345b19bb",
   "metadata": {},
   "outputs": [],
   "source": [
    "train_na_summary = train_data.isna().sum()\n",
    "print(\"Missing values in train_data_reordered:\")\n",
    "print(train_na_summary[train_na_summary > 0])\n",
    "\n",
    "test_na_summary = test_data.isna().sum()\n",
    "print(\"\\nMissing values in test_data_reordered:\")\n",
    "print(test_na_summary[test_na_summary > 0])"
   ]
  },
  {
   "cell_type": "markdown",
   "id": "f0f67f33-3560-4b7f-a1d9-dc76c9c0eedd",
   "metadata": {},
   "source": [
    "#### 4. Visualization of categorical and continuous variables"
   ]
  },
  {
   "cell_type": "code",
   "execution_count": null,
   "id": "669e2845-6352-4b79-b8bd-d7aa647ce925",
   "metadata": {},
   "outputs": [],
   "source": [
    "categorial_variables = []\n",
    "numeric_variables = []\n",
    "\n",
    "categorial_variables = ['Marital status', 'Application mode', 'Course', 'Daytime/evening attendance', \n",
    "            'Previous qualification', 'Nacionality', 'Mother\\'s qualification', 'Father\\'s qualification', \n",
    "            'Mother\\'s occupation', 'Father\\'s occupation', 'Displaced', 'Educational special needs', \n",
    "            'Debtor', 'Tuition fees up to date', 'Gender', 'Scholarship holder', 'International']\n",
    "numeric_variables = list(set(train_data.columns)-set(categorial_variables))"
   ]
  },
  {
   "cell_type": "code",
   "execution_count": null,
   "id": "16cfd5ac-457a-4e1d-873e-641ce4efdedf",
   "metadata": {},
   "outputs": [],
   "source": [
    "# categorial variables\n",
    "fig, axes = plt.subplots(3, 6, figsize=(40, 20))\n",
    "for k in range(len(categorial_variables)):\n",
    "    sns.histplot(data=train, x=categorial_variables[k], ax=axes[k // 6, k % 6], bins=10, kde=False)\n",
    "    axes[k // 6, k % 6].set_ylabel('Number of Students')\n",
    "    axes[k // 6, k % 6].set_title(categorial_variables[k])\n",
    "plt.tight_layout()\n",
    "plt.show()"
   ]
  },
  {
   "cell_type": "code",
   "execution_count": null,
   "id": "05c263f2-4417-45cb-884f-f7edbb0608c8",
   "metadata": {},
   "outputs": [],
   "source": [
    "# numeric variables\n",
    "fig, axes = plt.subplots(3, 6, figsize=(40, 20))\n",
    "for k in range(len(numeric_variables)):\n",
    "    sns.kdeplot(data=train, x=numeric_variables[k], ax=axes[k // 6, k % 6], fill=True, color='darkblue', alpha=0.5)\n",
    "    axes[k // 6, k % 6].set_ylabel('Density')\n",
    "    axes[k // 6, k % 6].set_title(numeric_variables[k])\n",
    "plt.tight_layout()\n",
    "plt.show()"
   ]
  },
  {
   "cell_type": "markdown",
   "id": "7c457f43-123c-4391-a4bd-562fb1d8d35a",
   "metadata": {},
   "source": [
    "##### 4.1 Normalization: Z-score standization (due to the observation of distribution of variables)"
   ]
  },
  {
   "cell_type": "code",
   "execution_count": null,
   "id": "6df1a5e3-a45b-4a15-9008-8e71bad813f9",
   "metadata": {},
   "outputs": [],
   "source": [
    "scaler = StandardScaler()\n",
    "train_data_scaled = scaler.fit_transform(train_data)\n",
    "test_data_scaled = scaler.fit_transform(test_data)\n",
    "\n",
    "# scaler = MinMaxScaler()\n",
    "# train_data_scaled = scaler.fit_transform(train_data)\n",
    "# test_data_scaled = scaler.transform(test_data)\n",
    "\n",
    "# train_data_scaled = train_data\n",
    "# test_data_scaled = test_data"
   ]
  },
  {
   "cell_type": "markdown",
   "id": "3eac1be8-67b5-4820-b717-1ebae383747f",
   "metadata": {},
   "source": [
    "#### 5. Encode categorical variables (\"Target\")"
   ]
  },
  {
   "cell_type": "code",
   "execution_count": null,
   "id": "218109fc-2e75-4fb3-8c61-6aaa3a42f62e",
   "metadata": {},
   "outputs": [],
   "source": [
    "type_dict = {'Graduate':0, 'Dropout':1, 'Enrolled':2}\n",
    "train_label = train_label.map(type_dict)\n",
    "test_label = test_label.map(type_dict)"
   ]
  },
  {
   "cell_type": "markdown",
   "id": "5fc4a87c-74c3-4ebd-9127-ef77e0e6f43a",
   "metadata": {},
   "source": [
    "#### 6. Imbalanced data"
   ]
  },
  {
   "cell_type": "code",
   "execution_count": null,
   "id": "e1fd81f8-7a12-40af-90df-aa24b388461b",
   "metadata": {},
   "outputs": [],
   "source": [
    "plt.figure(figsize=(8, 6))\n",
    "palette = sns.color_palette(\"deep\", 3)\n",
    "sns.countplot(x='Target', data=train, palette=palette, hue='Target', legend=False)\n",
    "plt.title('Distribution of Target Variable')\n",
    "plt.xlabel('Target')\n",
    "plt.ylabel('Count')\n",
    "plt.show()"
   ]
  },
  {
   "cell_type": "markdown",
   "id": "8da03c8f-7661-4058-b0d4-42403f902659",
   "metadata": {},
   "source": [
    "##### 6.1 SMOTE to handle"
   ]
  },
  {
   "cell_type": "code",
   "execution_count": null,
   "id": "72407270-f351-46a5-a858-0c0b1f5f0da2",
   "metadata": {},
   "outputs": [],
   "source": [
    "smote = SMOTE(random_state=42)\n",
    "train_data_scaled_resampled, train_label_resampled = smote.fit_resample(train_data_scaled, train_label)\n",
    "train_data_scaled_resampled_table = pd.DataFrame(train_data_scaled_resampled, columns=train_data.columns)\n",
    "train_resampled = pd.concat([train_data_scaled_resampled_table, train_label_resampled], axis=1)\n",
    "plt.figure(figsize=(8, 6))\n",
    "palette = sns.color_palette(\"deep\", 3)\n",
    "sns.countplot(x='Target', data=train_resampled, palette=palette, hue='Target', legend=False)\n",
    "plt.title('Distribution of Target Variable After SMOTE')\n",
    "plt.xlabel('Target')\n",
    "plt.ylabel('Count')\n",
    "plt.show()"
   ]
  },
  {
   "cell_type": "markdown",
   "id": "b4cf0674-1fd0-47a7-9f91-f7bfb5ad5d0b",
   "metadata": {},
   "source": [
    "#### 7. Analyze the relationships between features (e.g., demographics, academic performance)"
   ]
  },
  {
   "cell_type": "code",
   "execution_count": null,
   "id": "9b9afaff-1bf8-492a-a361-c476acf034c0",
   "metadata": {},
   "outputs": [],
   "source": [
    "column_order = [\n",
    "    'Marital status', 'Nacionality', 'Displaced', 'Gender',\n",
    "    'Age at enrollment', 'International', \"Mother's qualification\",\n",
    "    \"Father's qualification\", \"Mother's occupation\", \"Father's occupation\",\n",
    "    'Educational special needs', 'Debtor', 'Tuition fees up to date',\n",
    "    'Scholarship holder', 'Unemployment rate', 'Inflation rate', 'GDP',\n",
    "    'Application mode', 'Application order', 'Course',\n",
    "    'Daytime/evening attendance', 'Previous qualification',\n",
    "    'Curricular units 1st sem (credited)', 'Curricular units 1st sem (enrolled)',\n",
    "    'Curricular units 1st sem (evaluations)', 'Curricular units 1st sem (approved)',\n",
    "    'Curricular units 1st sem (grade)', 'Curricular units 1st sem (without evaluations)',\n",
    "    'Curricular units 2nd sem (credited)', 'Curricular units 2nd sem (enrolled)',\n",
    "    'Curricular units 2nd sem (evaluations)', 'Curricular units 2nd sem (approved)',\n",
    "    'Curricular units 2nd sem (grade)', 'Curricular units 2nd sem (without evaluations)'\n",
    "]\n",
    "train_data_reordered = train_data[column_order]\n",
    "test_data_reordered = test_data[column_order]"
   ]
  },
  {
   "cell_type": "code",
   "execution_count": null,
   "id": "53c536f3-c97d-4efd-9524-dd4e92c9675d",
   "metadata": {},
   "outputs": [],
   "source": [
    "correlation_matrix = train_data_reordered.corr()\n",
    "plt.figure(figsize=(30,30))\n",
    "sns.heatmap(correlation_matrix, cmap=\"Blues\", annot=True)\n",
    "plt.title(\"Correlation Heatmap of Train Dataset\")\n",
    "plt.xticks(rotation=70)\n",
    "plt.show()"
   ]
  },
  {
   "cell_type": "markdown",
   "id": "9992e67e-24ac-474f-8512-fd3417ab7629",
   "metadata": {},
   "source": [
    "##### 7.1 Handle the collinearity (LASSO Regression)"
   ]
  },
  {
   "cell_type": "code",
   "execution_count": null,
   "id": "42e05e06-d444-4d83-b045-ad45e189ab75",
   "metadata": {},
   "outputs": [],
   "source": [
    "lasso = Lasso(alpha=0.001)  # alpha is regularization strength\n",
    "lasso.fit(train_data_scaled_resampled_table, train_label_resampled)\n",
    "\n",
    "feature_weights = lasso.coef_\n",
    "print(\"Feature Weights:\", feature_weights)\n",
    "\n",
    "selected_features = train_data.columns[feature_weights != 0]\n",
    "print(\"Selected Features:\", selected_features)\n",
    "\n",
    "train_data_new = train_data_scaled_resampled_table[selected_features]\n",
    "\n",
    "test_data_scaled_table = pd.DataFrame(test_data_scaled, columns=test_data.columns)\n",
    "test_data_new = test_data_scaled_table[selected_features]"
   ]
  },
  {
   "cell_type": "code",
   "execution_count": null,
   "id": "fb29ed85-625a-42be-9533-dfa1fa4decc4",
   "metadata": {},
   "outputs": [],
   "source": [
    "train_data_new"
   ]
  },
  {
   "cell_type": "code",
   "execution_count": null,
   "id": "b743e526-85ab-4d87-8b17-273c1199b1bc",
   "metadata": {},
   "outputs": [],
   "source": [
    "test_data_new"
   ]
  },
  {
   "cell_type": "markdown",
   "id": "d5453ea5-27c0-4372-a56a-a2a28b4ae78b",
   "metadata": {},
   "source": [
    "#### 8. Save the data to csv and npy"
   ]
  },
  {
   "cell_type": "code",
   "execution_count": null,
   "id": "836b4d19-06d5-41f7-be9f-3be086c0161e",
   "metadata": {},
   "outputs": [],
   "source": [
    "train_data_new.to_csv(\"/root/autodl-tmp/data/train_data_new.csv\", index=False)\n",
    "test_data_new.to_csv(\"/root/autodl-tmp/data/test_data_new.csv\", index=False)"
   ]
  },
  {
   "cell_type": "code",
   "execution_count": null,
   "id": "f947b822-0500-4a42-9e3b-a36b0a9b973c",
   "metadata": {},
   "outputs": [],
   "source": [
    "train_label_oh = np.eye(3)[train_label_resampled] # one-hot encoding\n",
    "np.save(\"/root/autodl-tmp/data/train_label_new.npy\", train_label_oh)"
   ]
  },
  {
   "cell_type": "code",
   "execution_count": null,
   "id": "45095a77-f8d0-4f01-a519-48a5adc716c9",
   "metadata": {},
   "outputs": [],
   "source": [
    "# train_data_new_0 = train_data_new[train_label_resampled==0].to_csv(\"/root/autodl-tmp/data/train_data_new_0.csv\", index=False)\n",
    "# train_data_new_1 = train_data_new[train_label_resampled==1].to_csv(\"/root/autodl-tmp/data/train_data_new_1.csv\", index=False)\n",
    "# train_data_new_2 = train_data_new[train_label_resampled==2].to_csv(\"/root/autodl-tmp/data/train_data_new_2.csv\", index=False)"
   ]
  }
 ],
 "metadata": {
  "kernelspec": {
   "display_name": "SWEdiff",
   "language": "python",
   "name": "swediff"
  },
  "language_info": {
   "codemirror_mode": {
    "name": "ipython",
    "version": 3
   },
   "file_extension": ".py",
   "mimetype": "text/x-python",
   "name": "python",
   "nbconvert_exporter": "python",
   "pygments_lexer": "ipython3",
   "version": "3.9.20"
  }
 },
 "nbformat": 4,
 "nbformat_minor": 5
}
