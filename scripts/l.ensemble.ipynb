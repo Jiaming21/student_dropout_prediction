{
 "cells": [
  {
   "cell_type": "code",
   "execution_count": null,
   "id": "8c76f8ab-f10d-464c-a4aa-75c12bd6c2dc",
   "metadata": {},
   "outputs": [],
   "source": [
    "import torch\n",
    "from torch.utils.data import DataLoader\n",
    "from torch import nn\n",
    "import torch.optim as optim\n",
    "import numpy as np\n",
    "from sklearn.metrics import roc_auc_score, accuracy_score, matthews_corrcoef, recall_score, precision_score\n",
    "from sklearn.metrics import confusion_matrix, f1_score, classification_report\n",
    "from sklearn.metrics import roc_curve\n",
    "import torch.nn.functional as F\n",
    "import xgboost as xgb\n",
    "import pandas as pd\n",
    "from sklearn.preprocessing import StandardScaler\n",
    "from sklearn.ensemble import RandomForestClassifier, GradientBoostingClassifier"
   ]
  },
  {
   "cell_type": "code",
   "execution_count": null,
   "id": "cb5ea697-c3e7-49e9-9a1c-0a7db2feb434",
   "metadata": {},
   "outputs": [],
   "source": [
    "# get roc_auc, metrics_sn, metrics_sp, metrics_ACC, metrics_F1, metrics_MCC\n",
    "def calculate_multiclass_metrics(true_labels, predicted_labels, predicted_probabilities, num_classes):\n",
    "    accuracy = accuracy_score(true_labels, predicted_labels)\n",
    "    mcc = matthews_corrcoef(true_labels, predicted_labels)\n",
    "    \n",
    "    sensitivity_per_class = []\n",
    "    specificity_per_class = []\n",
    "    auc_per_class = []\n",
    "    f1_per_class = []\n",
    "\n",
    "    for i in range(num_classes):\n",
    "        true_binary = (np.array(true_labels) == i).astype(int)\n",
    "        pred_binary = (np.array(predicted_labels) == i).astype(int)\n",
    "\n",
    "        cm = confusion_matrix(true_binary, pred_binary, labels=[0, 1])\n",
    "        tn, fp, fn, tp = cm.ravel()\n",
    "\n",
    "        sensitivity = tp / (tp + fn) if (tp + fn) > 0 else 0\n",
    "        specificity = tn / (tn + fp) if (tn + fp) > 0 else 0\n",
    "        sensitivity_per_class.append(sensitivity)\n",
    "        specificity_per_class.append(specificity)\n",
    "\n",
    "        \n",
    "        auc = roc_auc_score(true_binary, predicted_probabilities[:, i]) if len(np.unique(true_binary)) > 1 else 0\n",
    "        auc_per_class.append(auc)\n",
    "\n",
    "        f1 = f1_score(true_binary, pred_binary) if len(np.unique(true_binary)) > 1 else 0\n",
    "        f1_per_class.append(f1)\n",
    "\n",
    "    avg_sensitivity = np.mean(sensitivity_per_class)\n",
    "    avg_specificity = np.mean(specificity_per_class)\n",
    "    avg_auc = np.mean(auc_per_class) if auc_per_class else 0\n",
    "    avg_f1 = np.mean(f1_per_class)\n",
    "\n",
    "    print(f\"Average AUC: {avg_auc:.4f}\")\n",
    "    print(f\"Average Sensitivity: {avg_sensitivity:.4f}\")\n",
    "    print(f\"Average Specificity: {avg_specificity:.4f}\")\n",
    "    print(f\"Accuracy: {accuracy:.4f}\")\n",
    "    print(f\"Average F1-score: {avg_f1:.4f}\")\n",
    "    print(f\"Matthews Correlation Coefficient (MCC): {mcc:.4f}\")"
   ]
  },
  {
   "cell_type": "code",
   "execution_count": null,
   "id": "56ebd78b-90bf-4008-bc61-e382a082a8e9",
   "metadata": {},
   "outputs": [],
   "source": [
    "file_path = '/root/autodl-tmp/ROC/'\n",
    "xgb_predicted_probabilities = np.load(file_path + 'XGB/y_val_pred.npy')  \n",
    "svm_predicted_probabilities = np.load(file_path + 'SVM/y_val_pred.npy')  \n",
    "rf_predicted_probabilities = np.load(file_path + 'RF/y_val_pred.npy')  \n",
    "lstm_predicted_probabilities = np.load(file_path + 'LSTM/y_val_pred.npy')\n",
    "transformer_predicted_probabilities = np.load(file_path + 'Transformer/y_val_pred.npy')  \n",
    "true_labels = np.load(file_path + 'XGB/y_val_pred.npy') "
   ]
  },
  {
   "cell_type": "code",
   "execution_count": null,
   "id": "3cdf72a2-4745-4611-a0e5-a3c294006be4",
   "metadata": {},
   "outputs": [],
   "source": [
    "np.array(rf_predicted_probabilities).shape"
   ]
  },
  {
   "cell_type": "markdown",
   "id": "67bd98a0-4ad2-4125-9467-61037ba85aec",
   "metadata": {},
   "source": [
    "#### RF+Transformer"
   ]
  },
  {
   "cell_type": "code",
   "execution_count": null,
   "id": "2ab5e17e-4a76-4362-82a1-a4559573b977",
   "metadata": {},
   "outputs": [],
   "source": [
    "predicted_probabilities = (np.array(rf_predicted_probabilities) + \n",
    "                           np.array(transformer_predicted_probabilities)\n",
    "                           )/2\n",
    "true_labels_ = np.argmax(true_labels, axis=-1)\n",
    "predicted_labels = np.argmax(predicted_probabilities, axis=-1)\n",
    "preds = torch.tensor(predicted_probabilities)\n",
    "preds = F.softmax(preds, dim=-1)\n",
    "\n",
    "test_metrics = calculate_multiclass_metrics(true_labels_, predicted_labels, preds, num_classes=3)"
   ]
  },
  {
   "cell_type": "markdown",
   "id": "bea9aa12-861d-49b3-b1e6-6bd32b8c0baa",
   "metadata": {},
   "source": [
    "#### RF+Transformer+XGB"
   ]
  },
  {
   "cell_type": "code",
   "execution_count": null,
   "id": "ad35e031-39a3-46c9-a5e8-a528eb119d72",
   "metadata": {},
   "outputs": [],
   "source": [
    "predicted_probabilities = (np.array(rf_predicted_probabilities) + \n",
    "                           np.array(transformer_predicted_probabilities) + \n",
    "                           np.array(xgb_predicted_probabilities)\n",
    "                           )/3\n",
    "true_labels_ = np.argmax(true_labels, axis=-1)\n",
    "predicted_labels = np.argmax(predicted_probabilities, axis=-1)\n",
    "preds = torch.tensor(predicted_probabilities)\n",
    "preds = F.softmax(preds, dim=-1)\n",
    "\n",
    "test_metrics = calculate_multiclass_metrics(true_labels_, predicted_labels, preds, num_classes=3)"
   ]
  },
  {
   "cell_type": "markdown",
   "id": "7019a9a2-f5b2-4463-ae88-d4d30fa164a3",
   "metadata": {},
   "source": [
    "#### RF+Transformer+SVM"
   ]
  },
  {
   "cell_type": "code",
   "execution_count": null,
   "id": "fbe0b339-7bbd-4d01-9354-f1c6d9414ef1",
   "metadata": {},
   "outputs": [],
   "source": [
    "predicted_probabilities = (np.array(rf_predicted_probabilities) + \n",
    "                           np.array(transformer_predicted_probabilities) + \n",
    "                           np.array(svm_predicted_probabilities)\n",
    "                           )/3\n",
    "true_labels_ = np.argmax(true_labels, axis=-1)\n",
    "predicted_labels = np.argmax(predicted_probabilities, axis=-1)\n",
    "preds = torch.tensor(predicted_probabilities)\n",
    "preds = F.softmax(preds, dim=-1)\n",
    "\n",
    "test_metrics = calculate_multiclass_metrics(true_labels_, predicted_labels, preds, num_classes=3)"
   ]
  },
  {
   "cell_type": "markdown",
   "id": "452a6622-9fb7-407d-bfe1-64442f8a3f10",
   "metadata": {},
   "source": [
    "#### RF+Transformer+XGB+SVM"
   ]
  },
  {
   "cell_type": "code",
   "execution_count": null,
   "id": "bb45c47d-01c2-45c1-aeab-561e7c8c126c",
   "metadata": {},
   "outputs": [],
   "source": [
    "predicted_probabilities = (np.array(rf_predicted_probabilities) + \n",
    "                           np.array(transformer_predicted_probabilities) + \n",
    "                           np.array(xgb_predicted_probabilities) +\n",
    "                           np.array(svm_predicted_probabilities)\n",
    "                           )/4\n",
    "true_labels_ = np.argmax(true_labels, axis=-1)\n",
    "predicted_labels = np.argmax(predicted_probabilities, axis=-1)\n",
    "preds = torch.tensor(predicted_probabilities)\n",
    "preds = F.softmax(preds, dim=-1)\n",
    "\n",
    "test_metrics = calculate_multiclass_metrics(true_labels_, predicted_labels, preds, num_classes=3)"
   ]
  },
  {
   "cell_type": "markdown",
   "id": "410d857c-2828-46cf-8709-246265955281",
   "metadata": {},
   "source": [
    "#### RF+Transformer+XGB+SVM+LSTM"
   ]
  },
  {
   "cell_type": "code",
   "execution_count": null,
   "id": "f31ab69f-12fd-4fdf-96cd-b6d1df8f91a6",
   "metadata": {},
   "outputs": [],
   "source": [
    "predicted_probabilities = (np.array(rf_predicted_probabilities) + \n",
    "                           np.array(transformer_predicted_probabilities) + \n",
    "                           np.array(xgb_predicted_probabilities) +\n",
    "                           np.array(svm_predicted_probabilities) +\n",
    "                           np.array(lstm_predicted_probabilities)\n",
    "                           )/5\n",
    "true_labels_ = np.argmax(true_labels, axis=-1)\n",
    "predicted_labels = np.argmax(predicted_probabilities, axis=-1)\n",
    "preds = torch.tensor(predicted_probabilities)\n",
    "preds = F.softmax(preds, dim=-1)\n",
    "\n",
    "test_metrics = calculate_multiclass_metrics(true_labels_, predicted_labels, preds, num_classes=3)"
   ]
  },
  {
   "cell_type": "code",
   "execution_count": null,
   "id": "e55fde37-d590-4d6f-9c89-d0b7095fe977",
   "metadata": {},
   "outputs": [],
   "source": []
  }
 ],
 "metadata": {
  "kernelspec": {
   "display_name": "SWEdiff",
   "language": "python",
   "name": "swediff"
  },
  "language_info": {
   "codemirror_mode": {
    "name": "ipython",
    "version": 3
   },
   "file_extension": ".py",
   "mimetype": "text/x-python",
   "name": "python",
   "nbconvert_exporter": "python",
   "pygments_lexer": "ipython3",
   "version": "3.9.20"
  }
 },
 "nbformat": 4,
 "nbformat_minor": 5
}
