{
 "cells": [
  {
   "cell_type": "code",
   "execution_count": null,
   "id": "713e6ee3-b645-4476-b889-a68713d68fc8",
   "metadata": {},
   "outputs": [],
   "source": [
    "import torch\n",
    "from torch.utils.data import DataLoader\n",
    "from torch import nn\n",
    "import torch.optim as optim\n",
    "import numpy as np\n",
    "from sklearn.metrics import roc_auc_score, accuracy_score, matthews_corrcoef, recall_score, precision_score\n",
    "from sklearn.metrics import confusion_matrix, f1_score, classification_report\n",
    "from sklearn.metrics import roc_curve\n",
    "import torch.nn.functional as F"
   ]
  },
  {
   "cell_type": "code",
   "execution_count": null,
   "id": "76f86110-10f6-471f-89bf-8e7706e05c96",
   "metadata": {},
   "outputs": [],
   "source": [
    "loaded_datasets_info = torch.load('/root/autodl-tmp/data/saved_datasets.pth', weights_only=False)\n",
    "train_dataset = loaded_datasets_info['train_dataset']\n",
    "val_dataset = loaded_datasets_info['val_dataset']"
   ]
  },
  {
   "cell_type": "code",
   "execution_count": null,
   "id": "69b14a4f-b3d7-4cb0-a4ee-9c020cda8258",
   "metadata": {},
   "outputs": [],
   "source": [
    "batch_size = 10\n",
    "loaded_train_dataset = DataLoader(train_dataset, batch_size = batch_size, shuffle = False)\n",
    "loaded_val_dataset = DataLoader(val_dataset, batch_size = batch_size, shuffle = False)"
   ]
  },
  {
   "cell_type": "code",
   "execution_count": null,
   "id": "9da8af3e-76cd-4a52-a09f-5dee1368fca6",
   "metadata": {},
   "outputs": [],
   "source": [
    "size = 8\n",
    "class Net_conv(torch.nn.Module):\n",
    "    def __init__(self, input_length):\n",
    "        super(Net_conv, self).__init__()\n",
    "        self.block_1 = torch.nn.Sequential(\n",
    "            torch.nn.Conv1d(in_channels=1,\n",
    "                            out_channels=size,\n",
    "                            kernel_size=1,\n",
    "                            stride=1,\n",
    "                            padding=0),\n",
    "            torch.nn.BatchNorm1d(size),\n",
    "            torch.nn.ReLU(inplace=True),\n",
    "            torch.nn.Conv1d(in_channels=size,\n",
    "                                out_channels=2*size,\n",
    "                                kernel_size=3,\n",
    "                                stride=1,\n",
    "                                padding=1),\n",
    "            torch.nn.BatchNorm1d(2*size)\n",
    "        )\n",
    "        self.block_2 = torch.nn.Sequential(\n",
    "            torch.nn.Conv1d(in_channels=2*size,\n",
    "                            out_channels=4*size,\n",
    "                            kernel_size=1,\n",
    "                            stride=1,\n",
    "                            padding=0),\n",
    "            torch.nn.BatchNorm1d(4*size),\n",
    "            torch.nn.ReLU(inplace=True),\n",
    "            torch.nn.Conv1d(in_channels=4*size,\n",
    "                                out_channels=2*size,\n",
    "                                kernel_size=3, \n",
    "                                stride=1,\n",
    "                                padding=1),\n",
    "            torch.nn.BatchNorm1d(2*size)\n",
    "        )\n",
    "        iutput_size_block_1 = (input_length - 1 + 2 * 0) // 1 + 1  \n",
    "        output_size_block_2 = (iutput_size_block_1 - 1 + 2 * 0) // 1 + 1  \n",
    "        num_channels_last_layer = 2*size \n",
    "        linear_input_size = num_channels_last_layer * output_size_block_2    \n",
    "        self.linear_1 = torch.nn.Linear(linear_input_size, 3)\n",
    "    \n",
    "    def forward(self, x):\n",
    "        shortcut = x.float()\n",
    "        x = self.block_1(x)\n",
    "        x = torch.nn.functional.relu(x + shortcut)    \n",
    "        shortcut = x\n",
    "        x = self.block_2(x)\n",
    "        x = torch.nn.functional.relu(x + shortcut)     \n",
    "        x = x.view(x.size(0), -1)\n",
    "        x =  self.linear_1(x)\n",
    "        return x"
   ]
  },
  {
   "cell_type": "code",
   "execution_count": null,
   "id": "92d28946-797f-425c-b327-292a686e7dae",
   "metadata": {},
   "outputs": [],
   "source": [
    "device = \"cuda\"\n",
    "model = Net_conv(input_length = 31).to(device)\n",
    "optimizer = torch.optim.Adam(model.parameters(), lr=0.001)  \n",
    "criterion = nn.CrossEntropyLoss().to(device)\n",
    "num_epochs = 100"
   ]
  },
  {
   "cell_type": "code",
   "execution_count": null,
   "id": "38520170-921b-4939-b2e9-27ab0f26ce3b",
   "metadata": {},
   "outputs": [],
   "source": [
    "for epoch in range(num_epochs):\n",
    "    model.train()\n",
    "    running_loss = 0.0\n",
    "    for batch_indx, (inputs, labels) in enumerate(loaded_train_dataset):\n",
    "        inputs = inputs.to(device)\n",
    "        labels = labels.to(device)\n",
    "        \n",
    "        optimizer.zero_grad()\n",
    "        outputs = model(inputs)\n",
    "        loss = criterion(outputs, labels)\n",
    "        loss.backward()\n",
    "        optimizer.step()\n",
    "        \n",
    "        running_loss += loss.item()\n",
    "        \n",
    "    # Print average loss for the epoch\n",
    "    print(f\"Epoch {epoch+1}/{num_epochs}, Loss: {running_loss / (len(loaded_train_dataset) / batch_size)}\")"
   ]
  },
  {
   "cell_type": "code",
   "execution_count": null,
   "id": "b28ddac4-3e10-4d15-8674-44b93bef0047",
   "metadata": {},
   "outputs": [],
   "source": [
    "torch.save(model.state_dict(), '/root/autodl-tmp/model_params/CNN.pth')"
   ]
  },
  {
   "cell_type": "code",
   "execution_count": null,
   "id": "7cd86c85-7aee-4a0c-81ce-a2270bf537d6",
   "metadata": {},
   "outputs": [],
   "source": [
    "model.load_state_dict(torch.load('/root/autodl-tmp/model_params/CNN.pth', weights_only=False))"
   ]
  },
  {
   "cell_type": "markdown",
   "id": "1b6bc800-e4fb-426b-b73d-d17f922c2968",
   "metadata": {
    "tags": []
   },
   "source": [
    "### Metrics function definition"
   ]
  },
  {
   "cell_type": "code",
   "execution_count": null,
   "id": "393bebac-2b67-4e62-ae91-a66e60c5350f",
   "metadata": {},
   "outputs": [],
   "source": [
    "# get roc_auc, metrics_sn, metrics_sp, metrics_ACC, metrics_F1, metrics_MCC\n",
    "def calculate_multiclass_metrics(true_labels, predicted_labels, predicted_probabilities, num_classes):\n",
    "    accuracy = accuracy_score(true_labels, predicted_labels)\n",
    "    mcc = matthews_corrcoef(true_labels, predicted_labels)\n",
    "    \n",
    "    sensitivity_per_class = []\n",
    "    specificity_per_class = []\n",
    "    auc_per_class = []\n",
    "    f1_per_class = []\n",
    "\n",
    "    for i in range(num_classes):\n",
    "        true_binary = (np.array(true_labels) == i).astype(int)\n",
    "        pred_binary = (np.array(predicted_labels) == i).astype(int)\n",
    "\n",
    "        cm = confusion_matrix(true_binary, pred_binary, labels=[0, 1])\n",
    "        tn, fp, fn, tp = cm.ravel()\n",
    "\n",
    "        sensitivity = tp / (tp + fn) if (tp + fn) > 0 else 0\n",
    "        specificity = tn / (tn + fp) if (tn + fp) > 0 else 0\n",
    "        sensitivity_per_class.append(sensitivity)\n",
    "        specificity_per_class.append(specificity)\n",
    "\n",
    "        \n",
    "        auc = roc_auc_score(true_binary, predicted_probabilities[:, i]) if len(np.unique(true_binary)) > 1 else 0\n",
    "        auc_per_class.append(auc)\n",
    "\n",
    "        f1 = f1_score(true_binary, pred_binary) if len(np.unique(true_binary)) > 1 else 0\n",
    "        f1_per_class.append(f1)\n",
    "\n",
    "    avg_sensitivity = np.mean(sensitivity_per_class)\n",
    "    avg_specificity = np.mean(specificity_per_class)\n",
    "    avg_auc = np.mean(auc_per_class) if auc_per_class else 0\n",
    "    avg_f1 = np.mean(f1_per_class)\n",
    "\n",
    "    print(f\"Average AUC: {avg_auc:.4f}\")\n",
    "    print(f\"Average Sensitivity: {avg_sensitivity:.4f}\")\n",
    "    print(f\"Average Specificity: {avg_specificity:.4f}\")\n",
    "    print(f\"Accuracy: {accuracy:.4f}\")\n",
    "    print(f\"Average F1-score: {avg_f1:.4f}\")\n",
    "    print(f\"Matthews Correlation Coefficient (MCC): {mcc:.4f}\")"
   ]
  },
  {
   "cell_type": "markdown",
   "id": "2d903046-e9ac-4f7d-b1ab-9a6cd1134775",
   "metadata": {},
   "source": [
    "### Training data metrics"
   ]
  },
  {
   "cell_type": "code",
   "execution_count": null,
   "id": "af43577a-382a-4261-bbc9-758d716ac020",
   "metadata": {},
   "outputs": [],
   "source": [
    "predicted_probabilities = []\n",
    "true_labels = []\n",
    "with torch.set_grad_enabled(False):\n",
    "    for batch_indx, (inputs, labels) in enumerate(loaded_train_dataset):\n",
    "        inputs = inputs.to(device)\n",
    "        labels = labels.to(device)      \n",
    "        outputs = model(inputs)\n",
    "        predicted_probabilities.extend(outputs.tolist())\n",
    "        true_labels.extend(labels.tolist())"
   ]
  },
  {
   "cell_type": "code",
   "execution_count": null,
   "id": "d634c59a-070e-4670-adef-ff81574ee427",
   "metadata": {},
   "outputs": [],
   "source": [
    "true_labels_ = np.argmax(true_labels, axis=-1)\n",
    "predicted_labels = np.argmax(predicted_probabilities, axis=-1)\n",
    "preds = torch.tensor(predicted_probabilities)\n",
    "preds = F.softmax(preds, dim=-1)\n",
    "\n",
    "train_metrics = calculate_multiclass_metrics(true_labels_, predicted_labels, preds, num_classes=3)"
   ]
  },
  {
   "cell_type": "code",
   "execution_count": null,
   "id": "3e90d282-a10c-43bf-b53e-48dcf08073b3",
   "metadata": {},
   "outputs": [],
   "source": [
    "np.save('/root/autodl-tmp/ROC/CNN/y_train_pred.npy', preds)\n",
    "np.save('/root/autodl-tmp/ROC/CNN/y_train.npy', true_labels)"
   ]
  },
  {
   "cell_type": "markdown",
   "id": "1bf505ac-2ace-48e8-b275-74cbbb100296",
   "metadata": {},
   "source": [
    "### Validation data metrics"
   ]
  },
  {
   "cell_type": "code",
   "execution_count": null,
   "id": "aa633154-87be-4a95-9990-ed59878f005e",
   "metadata": {},
   "outputs": [],
   "source": [
    "predicted_probabilities = []  \n",
    "true_labels = []  \n",
    "with torch.set_grad_enabled(False): \n",
    "    for batch_indx, (inputs, labels) in enumerate(loaded_val_dataset):\n",
    "        inputs = inputs.to(device)\n",
    "        labels = labels.to(device)    \n",
    "        outputs = model(inputs)\n",
    "        predicted_probabilities.extend(outputs.tolist())\n",
    "        true_labels.extend(labels.tolist())"
   ]
  },
  {
   "cell_type": "code",
   "execution_count": null,
   "id": "1bc65513-5e8b-4737-bbbf-b6c99e78ddb4",
   "metadata": {},
   "outputs": [],
   "source": [
    "true_labels_ = np.argmax(true_labels, axis=-1)\n",
    "predicted_labels = np.argmax(predicted_probabilities, axis=-1)\n",
    "preds = torch.tensor(predicted_probabilities)\n",
    "preds = F.softmax(preds, dim=-1)\n",
    "\n",
    "test_metrics = calculate_multiclass_metrics(true_labels_, predicted_labels, preds, num_classes=3)"
   ]
  },
  {
   "cell_type": "code",
   "execution_count": null,
   "id": "5a3d871f-f2b4-4f8e-9e4c-b0a87e3d879d",
   "metadata": {},
   "outputs": [],
   "source": [
    "np.save('/root/autodl-tmp/ROC/CNN/y_val_pred.npy', preds)\n",
    "np.save('/root/autodl-tmp/ROC/CNN/y_val.npy', true_labels)"
   ]
  },
  {
   "cell_type": "code",
   "execution_count": null,
   "id": "17696105-a8be-4dc0-b868-dc26aca6f68e",
   "metadata": {},
   "outputs": [],
   "source": []
  },
  {
   "cell_type": "code",
   "execution_count": null,
   "id": "b513e60c-3c9e-4048-87f3-d3af20a596cd",
   "metadata": {},
   "outputs": [],
   "source": []
  }
 ],
 "metadata": {
  "kernelspec": {
   "display_name": "SWEdiff",
   "language": "python",
   "name": "swediff"
  },
  "language_info": {
   "codemirror_mode": {
    "name": "ipython",
    "version": 3
   },
   "file_extension": ".py",
   "mimetype": "text/x-python",
   "name": "python",
   "nbconvert_exporter": "python",
   "pygments_lexer": "ipython3",
   "version": "3.9.20"
  }
 },
 "nbformat": 4,
 "nbformat_minor": 5
}
