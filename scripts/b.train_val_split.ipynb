{
 "cells": [
  {
   "cell_type": "markdown",
   "id": "c0c434d7-a768-4834-8cdd-c3d42cc5dbe0",
   "metadata": {},
   "source": [
    "#### Import packages"
   ]
  },
  {
   "cell_type": "code",
   "execution_count": null,
   "id": "3fb5500a-836f-4056-a2b3-81bbe63abd05",
   "metadata": {},
   "outputs": [],
   "source": [
    "import numpy as np\n",
    "import pandas as pd\n",
    "import torch\n",
    "from torch.utils.data import TensorDataset, random_split"
   ]
  },
  {
   "cell_type": "markdown",
   "id": "cca07471-049a-4df3-b0ae-392205e90a94",
   "metadata": {},
   "source": [
    "#### Train dataset & Validation dataset"
   ]
  },
  {
   "cell_type": "code",
   "execution_count": null,
   "id": "bd7e1670-025c-4961-a7c0-8ef1ad0d360c",
   "metadata": {},
   "outputs": [],
   "source": [
    "train_data_new = pd.read_csv(\"/root/autodl-tmp/data/train_data_new.csv\")\n",
    "train_label_oh = np.load(\"/root/autodl-tmp/data/train_label_new.npy\")\n",
    "\n",
    "train_data_new = torch.tensor(train_data_new.values, dtype=torch.float32)\n",
    "train_label_oh = torch.tensor(train_label_oh, dtype=torch.float32)\n",
    "\n",
    "train_data_new = torch.tensor(np.expand_dims(train_data_new, 1), dtype=torch.float32)\n",
    "\n",
    "train_dataset = TensorDataset(train_data_new, train_label_oh)"
   ]
  },
  {
   "cell_type": "code",
   "execution_count": null,
   "id": "3e7b7458-1592-4d1b-93a9-c63dfb132bbd",
   "metadata": {},
   "outputs": [],
   "source": [
    "print(train_data_new.shape)\n",
    "print(train_label_oh.shape)"
   ]
  },
  {
   "cell_type": "code",
   "execution_count": null,
   "id": "58524f54-c3b6-4714-9beb-2412f22727f9",
   "metadata": {},
   "outputs": [],
   "source": [
    "train_size = int(0.8 * len(train_dataset))\n",
    "val_size = len(train_dataset) - train_size\n",
    "train_dataset, val_dataset = random_split(train_dataset, [train_size, val_size])"
   ]
  },
  {
   "cell_type": "markdown",
   "id": "04e07d85-36fb-4bb3-899b-e06e2e35c133",
   "metadata": {},
   "source": [
    "#### Test dataset"
   ]
  },
  {
   "cell_type": "code",
   "execution_count": null,
   "id": "7efb084d-a2b0-4eef-ae96-1ff663e90c5b",
   "metadata": {},
   "outputs": [],
   "source": [
    "test_data_new = pd.read_csv(\"/root/autodl-tmp/data/test_data_new.csv\")\n",
    "test_data_new = torch.tensor(test_data_new.values, dtype=torch.float32)\n",
    "test_data_new = torch.tensor(np.expand_dims(test_data_new, 1), dtype=torch.float32)"
   ]
  },
  {
   "cell_type": "markdown",
   "id": "98fa1558-097e-4d7a-8536-48c71d9e3077",
   "metadata": {},
   "source": [
    "#### Save Train dataset"
   ]
  },
  {
   "cell_type": "code",
   "execution_count": null,
   "id": "756b0e95-d0ec-48a6-ab45-861373aa4384",
   "metadata": {},
   "outputs": [],
   "source": [
    "torch.save({\n",
    "    'train_dataset': train_dataset, \n",
    "    'val_dataset': val_dataset\n",
    "}, '/root/autodl-tmp/data/saved_datasets.pth')"
   ]
  },
  {
   "cell_type": "code",
   "execution_count": null,
   "id": "22055863-2483-4abb-8d28-a1a67bf2d7ee",
   "metadata": {},
   "outputs": [],
   "source": []
  },
  {
   "cell_type": "code",
   "execution_count": null,
   "id": "63767c44-f900-4042-a40a-185c3b737a42",
   "metadata": {},
   "outputs": [],
   "source": []
  },
  {
   "cell_type": "code",
   "execution_count": null,
   "id": "0a79eb6d-4dc4-42a4-988a-524e3da36cf0",
   "metadata": {},
   "outputs": [],
   "source": []
  },
  {
   "cell_type": "code",
   "execution_count": null,
   "id": "09ecf03a-40e5-40dd-a047-dd44b81f8255",
   "metadata": {},
   "outputs": [],
   "source": []
  },
  {
   "cell_type": "code",
   "execution_count": null,
   "id": "db93908c-a064-4785-853d-5dc8e81abf2b",
   "metadata": {},
   "outputs": [],
   "source": []
  }
 ],
 "metadata": {
  "kernelspec": {
   "display_name": "SWEdiff",
   "language": "python",
   "name": "swediff"
  },
  "language_info": {
   "codemirror_mode": {
    "name": "ipython",
    "version": 3
   },
   "file_extension": ".py",
   "mimetype": "text/x-python",
   "name": "python",
   "nbconvert_exporter": "python",
   "pygments_lexer": "ipython3",
   "version": "3.9.20"
  }
 },
 "nbformat": 4,
 "nbformat_minor": 5
}
