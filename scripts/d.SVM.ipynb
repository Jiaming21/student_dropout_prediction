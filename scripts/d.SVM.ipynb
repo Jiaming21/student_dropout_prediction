{
 "cells": [
  {
   "cell_type": "code",
   "execution_count": null,
   "id": "713e6ee3-b645-4476-b889-a68713d68fc8",
   "metadata": {},
   "outputs": [],
   "source": [
    "import torch\n",
    "from torch.utils.data import DataLoader\n",
    "from torch import nn\n",
    "import torch.optim as optim\n",
    "import numpy as np\n",
    "from sklearn.metrics import roc_auc_score, accuracy_score, matthews_corrcoef, recall_score, precision_score\n",
    "from sklearn.metrics import confusion_matrix, f1_score, classification_report\n",
    "from sklearn.metrics import roc_curve\n",
    "import torch.nn.functional as F\n",
    "import xgboost as xgb\n",
    "import pandas as pd\n",
    "from sklearn.preprocessing import StandardScaler\n",
    "from sklearn.svm import SVC"
   ]
  },
  {
   "cell_type": "code",
   "execution_count": null,
   "id": "76f86110-10f6-471f-89bf-8e7706e05c96",
   "metadata": {},
   "outputs": [],
   "source": [
    "loaded_datasets_info = torch.load('/root/autodl-tmp/data/saved_datasets.pth', weights_only=False)\n",
    "train_dataset = loaded_datasets_info['train_dataset']\n",
    "val_dataset = loaded_datasets_info['val_dataset']"
   ]
  },
  {
   "cell_type": "code",
   "execution_count": null,
   "id": "11a479e3-5296-478c-b3fa-20e0a55bb3d3",
   "metadata": {},
   "outputs": [],
   "source": [
    "from torch.utils.data import DataLoader\n",
    "\n",
    "def extract_features_labels_from_subset(subset):\n",
    "    \n",
    "    loader = DataLoader(subset, batch_size=len(subset))\n",
    "    \n",
    "    for features, labels in loader:\n",
    "        features = features.squeeze(1).numpy()\n",
    "        labels = labels.squeeze(1).numpy()\n",
    "        return features, labels\n",
    "\n",
    "X_train, y_train = extract_features_labels_from_subset(train_dataset)\n",
    "X_val, y_val = extract_features_labels_from_subset(val_dataset)"
   ]
  },
  {
   "cell_type": "markdown",
   "id": "807da459-9965-4d81-876e-08d0d3de5048",
   "metadata": {},
   "source": [
    "#### Metrics function definition"
   ]
  },
  {
   "cell_type": "code",
   "execution_count": null,
   "id": "b77d774c-c8eb-49a5-8d3c-d266422e945f",
   "metadata": {},
   "outputs": [],
   "source": [
    "# get roc_auc, metrics_sn, metrics_sp, metrics_ACC, metrics_F1, metrics_MCC\n",
    "def calculate_multiclass_metrics(true_labels, predicted_labels, predicted_probabilities, num_classes):\n",
    "    accuracy = accuracy_score(true_labels, predicted_labels)\n",
    "    mcc = matthews_corrcoef(true_labels, predicted_labels)\n",
    "    \n",
    "    sensitivity_per_class = []\n",
    "    specificity_per_class = []\n",
    "    auc_per_class = []\n",
    "    f1_per_class = []\n",
    "\n",
    "    for i in range(num_classes):\n",
    "        true_binary = (np.array(true_labels) == i).astype(int)\n",
    "        pred_binary = (np.array(predicted_labels) == i).astype(int)\n",
    "\n",
    "        cm = confusion_matrix(true_binary, pred_binary, labels=[0, 1])\n",
    "        tn, fp, fn, tp = cm.ravel()\n",
    "\n",
    "        sensitivity = tp / (tp + fn) if (tp + fn) > 0 else 0\n",
    "        specificity = tn / (tn + fp) if (tn + fp) > 0 else 0\n",
    "        sensitivity_per_class.append(sensitivity)\n",
    "        specificity_per_class.append(specificity)\n",
    "\n",
    "        \n",
    "        auc = roc_auc_score(true_binary, predicted_probabilities[:, i]) if len(np.unique(true_binary)) > 1 else 0\n",
    "        auc_per_class.append(auc)\n",
    "\n",
    "        f1 = f1_score(true_binary, pred_binary) if len(np.unique(true_binary)) > 1 else 0\n",
    "        f1_per_class.append(f1)\n",
    "\n",
    "    avg_sensitivity = np.mean(sensitivity_per_class)\n",
    "    avg_specificity = np.mean(specificity_per_class)\n",
    "    avg_auc = np.mean(auc_per_class) if auc_per_class else 0\n",
    "    avg_f1 = np.mean(f1_per_class)\n",
    "\n",
    "    print(f\"Average AUC: {avg_auc:.4f}\")\n",
    "    print(f\"Average Sensitivity: {avg_sensitivity:.4f}\")\n",
    "    print(f\"Average Specificity: {avg_specificity:.4f}\")\n",
    "    print(f\"Accuracy: {accuracy:.4f}\")\n",
    "    print(f\"Average F1-score: {avg_f1:.4f}\")\n",
    "    print(f\"Matthews Correlation Coefficient (MCC): {mcc:.4f}\")"
   ]
  },
  {
   "cell_type": "markdown",
   "id": "fac69f38-8a22-4346-830d-21e535ef8e5c",
   "metadata": {},
   "source": [
    "#### SVM"
   ]
  },
  {
   "cell_type": "code",
   "execution_count": null,
   "id": "87a5c1a0-be86-4d83-9894-e7b70163d021",
   "metadata": {},
   "outputs": [],
   "source": [
    "y_train_ = np.argmax(y_train, axis=1)\n",
    "svm_model = SVC(C=3.0, probability=True)\n",
    "svm_model.fit(X_train, y_train_)"
   ]
  },
  {
   "cell_type": "markdown",
   "id": "3162ba83-1838-4ad5-b2ae-40bff856a0b1",
   "metadata": {},
   "source": [
    "#### Training data metrics"
   ]
  },
  {
   "cell_type": "code",
   "execution_count": null,
   "id": "ea298162-9335-4a2a-bee0-c6468bdf4517",
   "metadata": {},
   "outputs": [],
   "source": [
    "y_pred = svm_model.predict_proba(X_train)"
   ]
  },
  {
   "cell_type": "code",
   "execution_count": null,
   "id": "96b5a07b-3296-4b6c-9788-40d556f75fcf",
   "metadata": {},
   "outputs": [],
   "source": [
    "true_labels_ = np.argmax(y_train, axis=-1)\n",
    "predicted_labels = np.argmax(y_pred, axis=-1)\n",
    "preds = torch.tensor(y_pred)\n",
    "preds = F.softmax(preds, dim=-1)\n",
    "\n",
    "train_metrics = calculate_multiclass_metrics(true_labels_, predicted_labels, preds, num_classes=3)"
   ]
  },
  {
   "cell_type": "code",
   "execution_count": null,
   "id": "2ab9a5ba-5c48-4f8b-9e93-4fb472b7498a",
   "metadata": {},
   "outputs": [],
   "source": [
    "np.save('/root/autodl-tmp/ROC/SVM/y_train_pred.npy', preds)\n",
    "np.save('/root/autodl-tmp/ROC/SVM/y_train.npy', y_train)"
   ]
  },
  {
   "cell_type": "markdown",
   "id": "f960bdfb-bfde-4222-89b4-43e309e6b734",
   "metadata": {},
   "source": [
    "#### Validation data metrics"
   ]
  },
  {
   "cell_type": "code",
   "execution_count": null,
   "id": "bd0b3ad6-7928-438a-8c9e-96cdd17bf09d",
   "metadata": {},
   "outputs": [],
   "source": [
    "y_pred = svm_model.predict_proba(X_val)"
   ]
  },
  {
   "cell_type": "code",
   "execution_count": null,
   "id": "b8e4ae25-b30a-49fb-84ea-0182e45d70a3",
   "metadata": {},
   "outputs": [],
   "source": [
    "true_labels_ = np.argmax(y_val, axis=-1)\n",
    "predicted_labels = np.argmax(y_pred, axis=-1)\n",
    "preds = torch.tensor(y_pred)\n",
    "preds = F.softmax(preds, dim=-1)\n",
    "\n",
    "test_metrics = calculate_multiclass_metrics(true_labels_, predicted_labels, preds, num_classes=3)"
   ]
  },
  {
   "cell_type": "code",
   "execution_count": null,
   "id": "ab092cf1-5186-45dc-bea2-67cb10496011",
   "metadata": {},
   "outputs": [],
   "source": [
    "np.save('/root/autodl-tmp/ROC/SVM/y_val_pred.npy', preds)\n",
    "np.save('/root/autodl-tmp/ROC/SVM/y_val.npy', y_val)"
   ]
  },
  {
   "cell_type": "code",
   "execution_count": null,
   "id": "17696105-a8be-4dc0-b868-dc26aca6f68e",
   "metadata": {},
   "outputs": [],
   "source": []
  },
  {
   "cell_type": "code",
   "execution_count": null,
   "id": "513c4a3d-b487-43ae-8791-799eb9899729",
   "metadata": {},
   "outputs": [],
   "source": []
  }
 ],
 "metadata": {
  "kernelspec": {
   "display_name": "SWEdiff",
   "language": "python",
   "name": "swediff"
  },
  "language_info": {
   "codemirror_mode": {
    "name": "ipython",
    "version": 3
   },
   "file_extension": ".py",
   "mimetype": "text/x-python",
   "name": "python",
   "nbconvert_exporter": "python",
   "pygments_lexer": "ipython3",
   "version": "3.9.20"
  }
 },
 "nbformat": 4,
 "nbformat_minor": 5
}
