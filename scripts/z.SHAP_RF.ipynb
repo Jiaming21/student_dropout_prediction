{
 "cells": [
  {
   "cell_type": "code",
   "execution_count": null,
   "id": "713e6ee3-b645-4476-b889-a68713d68fc8",
   "metadata": {},
   "outputs": [],
   "source": [
    "import torch\n",
    "from torch.utils.data import DataLoader\n",
    "from torch import nn\n",
    "import torch.optim as optim\n",
    "import numpy as np\n",
    "from sklearn.metrics import roc_auc_score, accuracy_score, matthews_corrcoef, recall_score, precision_score\n",
    "from sklearn.metrics import confusion_matrix, f1_score, classification_report\n",
    "from sklearn.metrics import roc_curve\n",
    "import torch.nn.functional as F\n",
    "import shap\n",
    "import pandas as pd\n",
    "import matplotlib.pyplot as plt"
   ]
  },
  {
   "cell_type": "code",
   "execution_count": null,
   "id": "76f86110-10f6-471f-89bf-8e7706e05c96",
   "metadata": {},
   "outputs": [],
   "source": [
    "loaded_datasets_info = torch.load('/root/autodl-tmp/data/saved_datasets.pth', weights_only=False)\n",
    "loaded_train_dataset = loaded_datasets_info['train_dataset']\n",
    "loaded_val_dataset = loaded_datasets_info['val_dataset']"
   ]
  },
  {
   "cell_type": "code",
   "execution_count": null,
   "id": "47d03144-1801-41ec-a7f1-77202a134861",
   "metadata": {},
   "outputs": [],
   "source": [
    "from torch.utils.data import DataLoader\n",
    "\n",
    "def extract_features_labels_from_subset(subset):\n",
    "    \n",
    "    loader = DataLoader(subset, batch_size=len(subset))\n",
    "    \n",
    "    for features, labels in loader:\n",
    "        features = features.squeeze(1).numpy()\n",
    "        labels = labels.squeeze(1).numpy()\n",
    "        return features, labels\n",
    "\n",
    "X_train, y_train = extract_features_labels_from_subset(loaded_train_dataset)\n",
    "X_val, y_val = extract_features_labels_from_subset(loaded_val_dataset)"
   ]
  },
  {
   "cell_type": "code",
   "execution_count": null,
   "id": "82262cd1-10dc-44d6-8458-d73d3aacfea6",
   "metadata": {},
   "outputs": [],
   "source": [
    "train_data_new = pd.read_csv('/root/autodl-tmp/data/train_data_new.csv') # 644\n",
    "feature_names = train_data_new.columns"
   ]
  },
  {
   "cell_type": "markdown",
   "id": "96123c80-e9a6-4d12-8f24-c312cc9ca6a2",
   "metadata": {},
   "source": [
    "#### Model"
   ]
  },
  {
   "cell_type": "code",
   "execution_count": null,
   "id": "9da8af3e-76cd-4a52-a09f-5dee1368fca6",
   "metadata": {},
   "outputs": [],
   "source": [
    "import pickle\n",
    "with open(\"../model_params/rf_model.pkl\", \"rb\") as f:\n",
    "    model = pickle.load(f)"
   ]
  },
  {
   "cell_type": "markdown",
   "id": "6fa6dc00-bb87-44d4-9b38-7e1224e0833c",
   "metadata": {},
   "source": [
    "#### SHAP"
   ]
  },
  {
   "cell_type": "code",
   "execution_count": null,
   "id": "29527fbe-eb6a-4043-b72f-2b610d17ea24",
   "metadata": {},
   "outputs": [],
   "source": [
    "# warnings.filterwarnings(\"ignore\") # this code chunk will have warnings every time constructing the DeepExplainer\n",
    "\n",
    "explainer_rf = shap.TreeExplainer(model, X_train) # X_train_tensor as background_data\n",
    "shap_values_rf = np.sum(explainer_rf.shap_values(X_val[:2000],check_additivity=False), axis=-1)*1000000000 # 1. shap values"
   ]
  },
  {
   "cell_type": "code",
   "execution_count": null,
   "id": "a483972a-4278-4027-9a9d-80b14c1c78ac",
   "metadata": {},
   "outputs": [],
   "source": [
    "predictions = model.predict_proba(X_train)\n",
    "expected_value = predictions.astype('float32') # 2. base_values (which is just the expected value)\n",
    "\n",
    "shap_values_rf_reconstructed = shap.Explanation(values=shap_values_rf, # construct back to only 2 dim\n",
    "                                             base_values=expected_value, \n",
    "                                             data=X_val[:2000], # construct back to only 2 dim\n",
    "                                             feature_names=feature_names)"
   ]
  },
  {
   "cell_type": "code",
   "execution_count": null,
   "id": "01325852-79e7-490e-a523-05d6a513da1a",
   "metadata": {},
   "outputs": [],
   "source": [
    "fig1_rf = shap.plots.bar(shap_values_rf_reconstructed, show=False)\n",
    "plt.savefig('/root/autodl-tmp/SHAP/shap_fig1_rf.pdf', bbox_inches='tight')"
   ]
  },
  {
   "cell_type": "code",
   "execution_count": null,
   "id": "f3a70a7d-34fb-4eac-b709-9473c5e90a04",
   "metadata": {},
   "outputs": [],
   "source": [
    "fig2_rf = shap.plots.beeswarm(shap_values_rf_reconstructed, show=False) \n",
    "plt.savefig('/root/autodl-tmp/SHAP/shap_fig2_rf.pdf', bbox_inches='tight')"
   ]
  },
  {
   "cell_type": "code",
   "execution_count": null,
   "id": "c1545467-a68c-4495-9311-a914a46d257f",
   "metadata": {},
   "outputs": [],
   "source": []
  },
  {
   "cell_type": "code",
   "execution_count": null,
   "id": "e48cbec1-21f3-44bd-9d50-1ce253883fba",
   "metadata": {},
   "outputs": [],
   "source": []
  },
  {
   "cell_type": "code",
   "execution_count": null,
   "id": "61c9511a-c3a7-475c-be5b-a98a9880888a",
   "metadata": {},
   "outputs": [],
   "source": []
  }
 ],
 "metadata": {
  "kernelspec": {
   "display_name": "SWEdiff",
   "language": "python",
   "name": "swediff"
  },
  "language_info": {
   "codemirror_mode": {
    "name": "ipython",
    "version": 3
   },
   "file_extension": ".py",
   "mimetype": "text/x-python",
   "name": "python",
   "nbconvert_exporter": "python",
   "pygments_lexer": "ipython3",
   "version": "3.9.20"
  }
 },
 "nbformat": 4,
 "nbformat_minor": 5
}
