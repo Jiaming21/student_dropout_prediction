{
 "cells": [
  {
   "cell_type": "code",
   "execution_count": null,
   "id": "e869648e-18db-461a-a380-352e4cb01b1b",
   "metadata": {},
   "outputs": [],
   "source": [
    "# Exploratory Data Analysis:\n",
    "# \n",
    "# Explore and clean the dataset.\n",
    "# Analyze the relationships between features \n",
    "# (e.g., demographics, academic performance) and outcomes (dropout, enrolled, graduate).\n",
    "# Identify key patterns, trends, and potential correlations.\n",
    "# Visualize findings using appropriate charts (e.g., histograms, box plots, correlation matrices)."
   ]
  },
  {
   "cell_type": "code",
   "execution_count": null,
   "id": "2228bbdd-73d0-4bb9-87eb-71b2345ebd6f",
   "metadata": {},
   "outputs": [],
   "source": [
    "train = read.csv(./data/train.csv)\n",
    "test = read.csv(./data/test.csv)\n",
    "all_data = train和testdata 按照列拼接\n"
   ]
  },
  {
   "cell_type": "code",
   "execution_count": null,
   "id": "f48dcd7e-0019-4c6b-b2df-49afc2e01950",
   "metadata": {},
   "outputs": [],
   "source": [
    "# 1. Explore and clean the dataset."
   ]
  },
  {
   "cell_type": "code",
   "execution_count": null,
   "id": "7089850f-5e8b-464d-81b3-b3624b299b93",
   "metadata": {},
   "outputs": [],
   "source": [
    "检查NA\n",
    "print(df.shape)\n",
    "df.head(5)\n",
    "\n",
    "from collections import Counter\n",
    "print('The original shape :', Counter(df['Target']))"
   ]
  }
 ],
 "metadata": {
  "kernelspec": {
   "display_name": "SWEdiff",
   "language": "python",
   "name": "swediff"
  },
  "language_info": {
   "codemirror_mode": {
    "name": "ipython",
    "version": 3
   },
   "file_extension": ".py",
   "mimetype": "text/x-python",
   "name": "python",
   "nbconvert_exporter": "python",
   "pygments_lexer": "ipython3",
   "version": "3.9.20"
  }
 },
 "nbformat": 4,
 "nbformat_minor": 5
}
